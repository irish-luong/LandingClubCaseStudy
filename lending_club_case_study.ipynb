{
 "cells": [
  {
   "cell_type": "markdown",
   "id": "2be6190b",
   "metadata": {},
   "source": [
    "##### Importing the libraries "
   ]
  },
  {
   "cell_type": "code",
   "execution_count": 3,
   "id": "5756e7d4",
   "metadata": {},
   "outputs": [],
   "source": [
    "\n",
    "# Standard Python libs\n",
    "import warnings\n",
    "\n",
    "\n",
    "# Data science libs\n",
    "import numpy as np\n",
    "import pandas as pd\n",
    "import seaborn as sns\n",
    "import matplotlib.pyplot as plt\n",
    "from termcolor import colored\n",
    "from ydata_profiling import ProfileReport\n",
    "\n",
    "\n",
    "# Use the warnings filter context manager to ignore specific warnings\n",
    "with warnings.catch_warnings():\n",
    "    # Filter out Pandas warnings\n",
    "    warnings.filterwarnings(\"ignore\", category=FutureWarning)"
   ]
  },
  {
   "cell_type": "markdown",
   "id": "dc510a78",
   "metadata": {},
   "source": [
    "## 1. Data Understanding"
   ]
  },
  {
   "cell_type": "markdown",
   "id": "4bf6a411",
   "metadata": {},
   "source": [
    "### 1.1 Load dataset as DataFrame to view data"
   ]
  },
  {
   "cell_type": "code",
   "execution_count": 5,
   "id": "a7cc03ed",
   "metadata": {},
   "outputs": [
    {
     "name": "stderr",
     "output_type": "stream",
     "text": [
      "/Users/geotech/Library/Python/3.11/lib/python/site-packages/IPython/core/interactiveshell.py:3526: DtypeWarning: Columns (47) have mixed types.Specify dtype option on import or set low_memory=False.\n",
      "  exec(code_obj, self.user_global_ns, self.user_ns)\n"
     ]
    },
    {
     "data": {
      "text/html": [
       "<div>\n",
       "<style scoped>\n",
       "    .dataframe tbody tr th:only-of-type {\n",
       "        vertical-align: middle;\n",
       "    }\n",
       "\n",
       "    .dataframe tbody tr th {\n",
       "        vertical-align: top;\n",
       "    }\n",
       "\n",
       "    .dataframe thead th {\n",
       "        text-align: right;\n",
       "    }\n",
       "</style>\n",
       "<table border=\"1\" class=\"dataframe\">\n",
       "  <thead>\n",
       "    <tr style=\"text-align: right;\">\n",
       "      <th></th>\n",
       "      <th>id</th>\n",
       "      <th>member_id</th>\n",
       "      <th>loan_amnt</th>\n",
       "      <th>funded_amnt</th>\n",
       "      <th>funded_amnt_inv</th>\n",
       "      <th>term</th>\n",
       "      <th>int_rate</th>\n",
       "      <th>installment</th>\n",
       "      <th>grade</th>\n",
       "      <th>sub_grade</th>\n",
       "      <th>...</th>\n",
       "      <th>num_tl_90g_dpd_24m</th>\n",
       "      <th>num_tl_op_past_12m</th>\n",
       "      <th>pct_tl_nvr_dlq</th>\n",
       "      <th>percent_bc_gt_75</th>\n",
       "      <th>pub_rec_bankruptcies</th>\n",
       "      <th>tax_liens</th>\n",
       "      <th>tot_hi_cred_lim</th>\n",
       "      <th>total_bal_ex_mort</th>\n",
       "      <th>total_bc_limit</th>\n",
       "      <th>total_il_high_credit_limit</th>\n",
       "    </tr>\n",
       "  </thead>\n",
       "  <tbody>\n",
       "    <tr>\n",
       "      <th>0</th>\n",
       "      <td>1077501</td>\n",
       "      <td>1296599</td>\n",
       "      <td>5000</td>\n",
       "      <td>5000</td>\n",
       "      <td>4975.0</td>\n",
       "      <td>36 months</td>\n",
       "      <td>10.65%</td>\n",
       "      <td>162.87</td>\n",
       "      <td>B</td>\n",
       "      <td>B2</td>\n",
       "      <td>...</td>\n",
       "      <td>NaN</td>\n",
       "      <td>NaN</td>\n",
       "      <td>NaN</td>\n",
       "      <td>NaN</td>\n",
       "      <td>0.0</td>\n",
       "      <td>0.0</td>\n",
       "      <td>NaN</td>\n",
       "      <td>NaN</td>\n",
       "      <td>NaN</td>\n",
       "      <td>NaN</td>\n",
       "    </tr>\n",
       "    <tr>\n",
       "      <th>1</th>\n",
       "      <td>1077430</td>\n",
       "      <td>1314167</td>\n",
       "      <td>2500</td>\n",
       "      <td>2500</td>\n",
       "      <td>2500.0</td>\n",
       "      <td>60 months</td>\n",
       "      <td>15.27%</td>\n",
       "      <td>59.83</td>\n",
       "      <td>C</td>\n",
       "      <td>C4</td>\n",
       "      <td>...</td>\n",
       "      <td>NaN</td>\n",
       "      <td>NaN</td>\n",
       "      <td>NaN</td>\n",
       "      <td>NaN</td>\n",
       "      <td>0.0</td>\n",
       "      <td>0.0</td>\n",
       "      <td>NaN</td>\n",
       "      <td>NaN</td>\n",
       "      <td>NaN</td>\n",
       "      <td>NaN</td>\n",
       "    </tr>\n",
       "    <tr>\n",
       "      <th>2</th>\n",
       "      <td>1077175</td>\n",
       "      <td>1313524</td>\n",
       "      <td>2400</td>\n",
       "      <td>2400</td>\n",
       "      <td>2400.0</td>\n",
       "      <td>36 months</td>\n",
       "      <td>15.96%</td>\n",
       "      <td>84.33</td>\n",
       "      <td>C</td>\n",
       "      <td>C5</td>\n",
       "      <td>...</td>\n",
       "      <td>NaN</td>\n",
       "      <td>NaN</td>\n",
       "      <td>NaN</td>\n",
       "      <td>NaN</td>\n",
       "      <td>0.0</td>\n",
       "      <td>0.0</td>\n",
       "      <td>NaN</td>\n",
       "      <td>NaN</td>\n",
       "      <td>NaN</td>\n",
       "      <td>NaN</td>\n",
       "    </tr>\n",
       "    <tr>\n",
       "      <th>3</th>\n",
       "      <td>1076863</td>\n",
       "      <td>1277178</td>\n",
       "      <td>10000</td>\n",
       "      <td>10000</td>\n",
       "      <td>10000.0</td>\n",
       "      <td>36 months</td>\n",
       "      <td>13.49%</td>\n",
       "      <td>339.31</td>\n",
       "      <td>C</td>\n",
       "      <td>C1</td>\n",
       "      <td>...</td>\n",
       "      <td>NaN</td>\n",
       "      <td>NaN</td>\n",
       "      <td>NaN</td>\n",
       "      <td>NaN</td>\n",
       "      <td>0.0</td>\n",
       "      <td>0.0</td>\n",
       "      <td>NaN</td>\n",
       "      <td>NaN</td>\n",
       "      <td>NaN</td>\n",
       "      <td>NaN</td>\n",
       "    </tr>\n",
       "    <tr>\n",
       "      <th>4</th>\n",
       "      <td>1075358</td>\n",
       "      <td>1311748</td>\n",
       "      <td>3000</td>\n",
       "      <td>3000</td>\n",
       "      <td>3000.0</td>\n",
       "      <td>60 months</td>\n",
       "      <td>12.69%</td>\n",
       "      <td>67.79</td>\n",
       "      <td>B</td>\n",
       "      <td>B5</td>\n",
       "      <td>...</td>\n",
       "      <td>NaN</td>\n",
       "      <td>NaN</td>\n",
       "      <td>NaN</td>\n",
       "      <td>NaN</td>\n",
       "      <td>0.0</td>\n",
       "      <td>0.0</td>\n",
       "      <td>NaN</td>\n",
       "      <td>NaN</td>\n",
       "      <td>NaN</td>\n",
       "      <td>NaN</td>\n",
       "    </tr>\n",
       "    <tr>\n",
       "      <th>5</th>\n",
       "      <td>1075269</td>\n",
       "      <td>1311441</td>\n",
       "      <td>5000</td>\n",
       "      <td>5000</td>\n",
       "      <td>5000.0</td>\n",
       "      <td>36 months</td>\n",
       "      <td>7.90%</td>\n",
       "      <td>156.46</td>\n",
       "      <td>A</td>\n",
       "      <td>A4</td>\n",
       "      <td>...</td>\n",
       "      <td>NaN</td>\n",
       "      <td>NaN</td>\n",
       "      <td>NaN</td>\n",
       "      <td>NaN</td>\n",
       "      <td>0.0</td>\n",
       "      <td>0.0</td>\n",
       "      <td>NaN</td>\n",
       "      <td>NaN</td>\n",
       "      <td>NaN</td>\n",
       "      <td>NaN</td>\n",
       "    </tr>\n",
       "    <tr>\n",
       "      <th>6</th>\n",
       "      <td>1069639</td>\n",
       "      <td>1304742</td>\n",
       "      <td>7000</td>\n",
       "      <td>7000</td>\n",
       "      <td>7000.0</td>\n",
       "      <td>60 months</td>\n",
       "      <td>15.96%</td>\n",
       "      <td>170.08</td>\n",
       "      <td>C</td>\n",
       "      <td>C5</td>\n",
       "      <td>...</td>\n",
       "      <td>NaN</td>\n",
       "      <td>NaN</td>\n",
       "      <td>NaN</td>\n",
       "      <td>NaN</td>\n",
       "      <td>0.0</td>\n",
       "      <td>0.0</td>\n",
       "      <td>NaN</td>\n",
       "      <td>NaN</td>\n",
       "      <td>NaN</td>\n",
       "      <td>NaN</td>\n",
       "    </tr>\n",
       "    <tr>\n",
       "      <th>7</th>\n",
       "      <td>1072053</td>\n",
       "      <td>1288686</td>\n",
       "      <td>3000</td>\n",
       "      <td>3000</td>\n",
       "      <td>3000.0</td>\n",
       "      <td>36 months</td>\n",
       "      <td>18.64%</td>\n",
       "      <td>109.43</td>\n",
       "      <td>E</td>\n",
       "      <td>E1</td>\n",
       "      <td>...</td>\n",
       "      <td>NaN</td>\n",
       "      <td>NaN</td>\n",
       "      <td>NaN</td>\n",
       "      <td>NaN</td>\n",
       "      <td>0.0</td>\n",
       "      <td>0.0</td>\n",
       "      <td>NaN</td>\n",
       "      <td>NaN</td>\n",
       "      <td>NaN</td>\n",
       "      <td>NaN</td>\n",
       "    </tr>\n",
       "    <tr>\n",
       "      <th>8</th>\n",
       "      <td>1071795</td>\n",
       "      <td>1306957</td>\n",
       "      <td>5600</td>\n",
       "      <td>5600</td>\n",
       "      <td>5600.0</td>\n",
       "      <td>60 months</td>\n",
       "      <td>21.28%</td>\n",
       "      <td>152.39</td>\n",
       "      <td>F</td>\n",
       "      <td>F2</td>\n",
       "      <td>...</td>\n",
       "      <td>NaN</td>\n",
       "      <td>NaN</td>\n",
       "      <td>NaN</td>\n",
       "      <td>NaN</td>\n",
       "      <td>0.0</td>\n",
       "      <td>0.0</td>\n",
       "      <td>NaN</td>\n",
       "      <td>NaN</td>\n",
       "      <td>NaN</td>\n",
       "      <td>NaN</td>\n",
       "    </tr>\n",
       "    <tr>\n",
       "      <th>9</th>\n",
       "      <td>1071570</td>\n",
       "      <td>1306721</td>\n",
       "      <td>5375</td>\n",
       "      <td>5375</td>\n",
       "      <td>5350.0</td>\n",
       "      <td>60 months</td>\n",
       "      <td>12.69%</td>\n",
       "      <td>121.45</td>\n",
       "      <td>B</td>\n",
       "      <td>B5</td>\n",
       "      <td>...</td>\n",
       "      <td>NaN</td>\n",
       "      <td>NaN</td>\n",
       "      <td>NaN</td>\n",
       "      <td>NaN</td>\n",
       "      <td>0.0</td>\n",
       "      <td>0.0</td>\n",
       "      <td>NaN</td>\n",
       "      <td>NaN</td>\n",
       "      <td>NaN</td>\n",
       "      <td>NaN</td>\n",
       "    </tr>\n",
       "  </tbody>\n",
       "</table>\n",
       "<p>10 rows × 111 columns</p>\n",
       "</div>"
      ],
      "text/plain": [
       "        id  member_id  loan_amnt  funded_amnt  funded_amnt_inv        term  \\\n",
       "0  1077501    1296599       5000         5000           4975.0   36 months   \n",
       "1  1077430    1314167       2500         2500           2500.0   60 months   \n",
       "2  1077175    1313524       2400         2400           2400.0   36 months   \n",
       "3  1076863    1277178      10000        10000          10000.0   36 months   \n",
       "4  1075358    1311748       3000         3000           3000.0   60 months   \n",
       "5  1075269    1311441       5000         5000           5000.0   36 months   \n",
       "6  1069639    1304742       7000         7000           7000.0   60 months   \n",
       "7  1072053    1288686       3000         3000           3000.0   36 months   \n",
       "8  1071795    1306957       5600         5600           5600.0   60 months   \n",
       "9  1071570    1306721       5375         5375           5350.0   60 months   \n",
       "\n",
       "  int_rate  installment grade sub_grade  ... num_tl_90g_dpd_24m  \\\n",
       "0   10.65%       162.87     B        B2  ...                NaN   \n",
       "1   15.27%        59.83     C        C4  ...                NaN   \n",
       "2   15.96%        84.33     C        C5  ...                NaN   \n",
       "3   13.49%       339.31     C        C1  ...                NaN   \n",
       "4   12.69%        67.79     B        B5  ...                NaN   \n",
       "5    7.90%       156.46     A        A4  ...                NaN   \n",
       "6   15.96%       170.08     C        C5  ...                NaN   \n",
       "7   18.64%       109.43     E        E1  ...                NaN   \n",
       "8   21.28%       152.39     F        F2  ...                NaN   \n",
       "9   12.69%       121.45     B        B5  ...                NaN   \n",
       "\n",
       "  num_tl_op_past_12m pct_tl_nvr_dlq  percent_bc_gt_75 pub_rec_bankruptcies  \\\n",
       "0                NaN            NaN               NaN                  0.0   \n",
       "1                NaN            NaN               NaN                  0.0   \n",
       "2                NaN            NaN               NaN                  0.0   \n",
       "3                NaN            NaN               NaN                  0.0   \n",
       "4                NaN            NaN               NaN                  0.0   \n",
       "5                NaN            NaN               NaN                  0.0   \n",
       "6                NaN            NaN               NaN                  0.0   \n",
       "7                NaN            NaN               NaN                  0.0   \n",
       "8                NaN            NaN               NaN                  0.0   \n",
       "9                NaN            NaN               NaN                  0.0   \n",
       "\n",
       "  tax_liens tot_hi_cred_lim total_bal_ex_mort total_bc_limit  \\\n",
       "0       0.0             NaN               NaN            NaN   \n",
       "1       0.0             NaN               NaN            NaN   \n",
       "2       0.0             NaN               NaN            NaN   \n",
       "3       0.0             NaN               NaN            NaN   \n",
       "4       0.0             NaN               NaN            NaN   \n",
       "5       0.0             NaN               NaN            NaN   \n",
       "6       0.0             NaN               NaN            NaN   \n",
       "7       0.0             NaN               NaN            NaN   \n",
       "8       0.0             NaN               NaN            NaN   \n",
       "9       0.0             NaN               NaN            NaN   \n",
       "\n",
       "  total_il_high_credit_limit  \n",
       "0                        NaN  \n",
       "1                        NaN  \n",
       "2                        NaN  \n",
       "3                        NaN  \n",
       "4                        NaN  \n",
       "5                        NaN  \n",
       "6                        NaN  \n",
       "7                        NaN  \n",
       "8                        NaN  \n",
       "9                        NaN  \n",
       "\n",
       "[10 rows x 111 columns]"
      ]
     },
     "execution_count": 5,
     "metadata": {},
     "output_type": "execute_result"
    }
   ],
   "source": [
    "df = pd.read_csv(\"loan.csv\")\n",
    "df.head(10)"
   ]
  },
  {
   "cell_type": "markdown",
   "id": "e657d50b",
   "metadata": {},
   "source": [
    "### 1.2 Profiling Whole Dataframe with ProfileReport"
   ]
  },
  {
   "cell_type": "code",
   "execution_count": 15,
   "id": "b33617fe",
   "metadata": {},
   "outputs": [
    {
     "data": {
      "application/vnd.jupyter.widget-view+json": {
       "model_id": "5a0cad2759314cf084a1c475210e5d93",
       "version_major": 2,
       "version_minor": 0
      },
      "text/plain": [
       "Summarize dataset:   0%|          | 0/5 [00:00<?, ?it/s]"
      ]
     },
     "metadata": {},
     "output_type": "display_data"
    },
    {
     "data": {
      "application/vnd.jupyter.widget-view+json": {
       "model_id": "5338b4c8ad1e4092954beecd5f164a09",
       "version_major": 2,
       "version_minor": 0
      },
      "text/plain": [
       "Generate report structure:   0%|          | 0/1 [00:00<?, ?it/s]"
      ]
     },
     "metadata": {},
     "output_type": "display_data"
    },
    {
     "data": {
      "application/vnd.jupyter.widget-view+json": {
       "model_id": "5c8da11f3259476a94c94619ebe6c24a",
       "version_major": 2,
       "version_minor": 0
      },
      "text/plain": [
       "Render HTML:   0%|          | 0/1 [00:00<?, ?it/s]"
      ]
     },
     "metadata": {},
     "output_type": "display_data"
    },
    {
     "data": {
      "application/vnd.jupyter.widget-view+json": {
       "model_id": "07d4932b216d4a96aaa5277ff264f8cc",
       "version_major": 2,
       "version_minor": 0
      },
      "text/plain": [
       "Export report to file:   0%|          | 0/1 [00:00<?, ?it/s]"
      ]
     },
     "metadata": {},
     "output_type": "display_data"
    },
    {
     "name": "stdout",
     "output_type": "stream",
     "text": [
      "====== Open file profiling_result.html on the browser to view profiling result\n"
     ]
    }
   ],
   "source": [
    "profile = ProfileReport(\n",
    "    df, title=\"Profiling Report for Loan dataset\",\n",
    "    dark_mode=True\n",
    ")\n",
    "profile.to_file(\"profiling_result.html\")\n",
    "\n",
    "print(\"====== Open file profiling_result.html on the browser to view profiling result\")"
   ]
  },
  {
   "cell_type": "markdown",
   "id": "dd51ed82",
   "metadata": {},
   "source": [
    "### 1.3 Indentify Data Quality Issue\n",
    "\n",
    "- Invalid Values\n",
    "    - Unicode\n",
    "    - Incorrect Data Type\n",
    "    - Accepted Values\n",
    "    - Format structure\n",
    "    - Internal rules (sanity check)\n",
    "\n",
    "- "
   ]
  },
  {
   "cell_type": "markdown",
   "id": "004a73c9",
   "metadata": {},
   "source": []
  },
  {
   "cell_type": "code",
   "execution_count": null,
   "id": "598ac3de",
   "metadata": {},
   "outputs": [],
   "source": []
  },
  {
   "cell_type": "markdown",
   "id": "9a89ebb4",
   "metadata": {},
   "source": [
    "### 1.4 Interpreted The Meaning of Fields"
   ]
  },
  {
   "cell_type": "code",
   "execution_count": null,
   "id": "94b28733",
   "metadata": {},
   "outputs": [],
   "source": []
  },
  {
   "cell_type": "markdown",
   "id": "83f4c381",
   "metadata": {},
   "source": [
    "## 2. Data Cleaning and Manipulation"
   ]
  },
  {
   "cell_type": "code",
   "execution_count": null,
   "id": "3487944e",
   "metadata": {},
   "outputs": [],
   "source": []
  },
  {
   "cell_type": "markdown",
   "id": "fd6e5f0d",
   "metadata": {},
   "source": [
    "### 2.1 Address Data Quality Issue\n",
    "\n",
    "- Fix columns\n",
    "    - Add columns name of missing\n",
    "    - Rename columns consistently\n",
    "    - Delete unnessesary columns\n",
    "    - Split columns for more data\n",
    "    - Merge columns for identifier\n",
    "    - Align missalign columns\n",
    "\n",
    "- Fix rows\n",
    "    - Delete incorrect rows\n",
    "    - Delete summary rows\n",
    "    - Delete extra rows\n",
    "\n",
    "- Fix missing values\n",
    "    - Set values as missing (treat blank strings, \"NA\", \"XX\", \"999\", etc. as missing.)\n",
    "    - Fill missing values with \n",
    "        - Constant (e.g zero)\n",
    "        - Default values\n",
    "        - Statistic value (e.g mode, mean, median, mix, max,....)\n",
    "        - External data\n",
    "    - Fill partial missing values using business judgement\n",
    "\n",
    "- Filter data\n",
    "    - Deduplicate Data by unique fields\n",
    "    - Filter rows by segments, date periods\n",
    "    - Filter columns pick relevant columns to analysis\n",
    "    - Aggregate data\n",
    "\n",
    "- Stadardize data\n",
    "    - Remove extra characters\n",
    "    - Standardize case (e.g UPPERCASE or lowercase)\n",
    "    - Standardize format\n"
   ]
  },
  {
   "cell_type": "code",
   "execution_count": null,
   "id": "42f703bc",
   "metadata": {},
   "outputs": [],
   "source": []
  },
  {
   "cell_type": "markdown",
   "id": "b977be7b",
   "metadata": {},
   "source": [
    "### 2.2 Convert Data Type"
   ]
  },
  {
   "cell_type": "code",
   "execution_count": null,
   "id": "ae777fc2",
   "metadata": {},
   "outputs": [],
   "source": []
  },
  {
   "cell_type": "markdown",
   "id": "8c14cf9d",
   "metadata": {},
   "source": [
    "### 2.3 Manipulate String and Date Fields"
   ]
  },
  {
   "cell_type": "code",
   "execution_count": null,
   "id": "e7a426e8",
   "metadata": {},
   "outputs": [],
   "source": []
  },
  {
   "cell_type": "markdown",
   "id": "1f63f61f",
   "metadata": {},
   "source": [
    "## 3. Data Analysis"
   ]
  },
  {
   "cell_type": "markdown",
   "id": "573e99e6",
   "metadata": {},
   "source": [
    "3.1 The Objective and Structure of Analysis\n",
    "\n",
    "#### 3.1.1 Business Problems\n",
    "[TBD]\n",
    "\n",
    "#### 3.1.2 Analysis Objective\n",
    "[TBD]\n",
    "\n",
    "#### 3.1.3 Analysis Actions\n",
    "\n",
    "- Univariate analysis\n",
    "    - Unordered categorical variable -> Frequency and ranking -> Scatter plot\n",
    "    - Ordered categorical variable -> Sort, frequency -> Histogram to see distribution\n",
    "    - Quantitative variable -> \n",
    "        - Descriptive Data Summary\n",
    "            - Statistic metrics: Q1/2/3, Mean, Median, Mod, Max, Min, Variant, SD\n",
    "            - Boxplot\n",
    "- Segmented univariate analysis\n",
    "    - Group by dimesion \n",
    "    - Summarize relevant metrics by mean, median\n",
    "    - Compare aggregated metrics \n",
    "- Bivariate analysis\n",
    "    - On continuous variables\n",
    "        - Scatter plot\n",
    "        - Correlation heatmap metrix\n",
    "    - On categorical variables\n",
    "        - Pivot table\n",
    "- Derived metrics\n",
    "    - Type-driven metrics\n",
    "        - Nominal variables\n",
    "        - Ordinal variables\n",
    "        - Interval variables\n",
    "        - Ratio variables\n",
    "    - Business-driven metrics\n",
    "    - Data-driven\n",
    "\n"
   ]
  },
  {
   "cell_type": "code",
   "execution_count": 7,
   "id": "a9117aa4",
   "metadata": {},
   "outputs": [
    {
     "data": {
      "text/plain": [
       "['id',\n",
       " 'member_id',\n",
       " 'loan_amnt',\n",
       " 'funded_amnt',\n",
       " 'funded_amnt_inv',\n",
       " 'term',\n",
       " 'int_rate',\n",
       " 'installment',\n",
       " 'grade',\n",
       " 'sub_grade',\n",
       " 'emp_title',\n",
       " 'emp_length',\n",
       " 'home_ownership',\n",
       " 'annual_inc',\n",
       " 'verification_status',\n",
       " 'issue_d',\n",
       " 'loan_status',\n",
       " 'pymnt_plan',\n",
       " 'url',\n",
       " 'desc',\n",
       " 'purpose',\n",
       " 'title',\n",
       " 'zip_code',\n",
       " 'addr_state',\n",
       " 'dti',\n",
       " 'delinq_2yrs',\n",
       " 'earliest_cr_line',\n",
       " 'inq_last_6mths',\n",
       " 'mths_since_last_delinq',\n",
       " 'mths_since_last_record',\n",
       " 'open_acc',\n",
       " 'pub_rec',\n",
       " 'revol_bal',\n",
       " 'revol_util',\n",
       " 'total_acc',\n",
       " 'initial_list_status',\n",
       " 'out_prncp',\n",
       " 'out_prncp_inv',\n",
       " 'total_pymnt',\n",
       " 'total_pymnt_inv',\n",
       " 'total_rec_prncp',\n",
       " 'total_rec_int',\n",
       " 'total_rec_late_fee',\n",
       " 'recoveries',\n",
       " 'collection_recovery_fee',\n",
       " 'last_pymnt_d',\n",
       " 'last_pymnt_amnt',\n",
       " 'next_pymnt_d',\n",
       " 'last_credit_pull_d',\n",
       " 'collections_12_mths_ex_med',\n",
       " 'mths_since_last_major_derog',\n",
       " 'policy_code',\n",
       " 'application_type',\n",
       " 'annual_inc_joint',\n",
       " 'dti_joint',\n",
       " 'verification_status_joint',\n",
       " 'acc_now_delinq',\n",
       " 'tot_coll_amt',\n",
       " 'tot_cur_bal',\n",
       " 'open_acc_6m',\n",
       " 'open_il_6m',\n",
       " 'open_il_12m',\n",
       " 'open_il_24m',\n",
       " 'mths_since_rcnt_il',\n",
       " 'total_bal_il',\n",
       " 'il_util',\n",
       " 'open_rv_12m',\n",
       " 'open_rv_24m',\n",
       " 'max_bal_bc',\n",
       " 'all_util',\n",
       " 'total_rev_hi_lim',\n",
       " 'inq_fi',\n",
       " 'total_cu_tl',\n",
       " 'inq_last_12m',\n",
       " 'acc_open_past_24mths',\n",
       " 'avg_cur_bal',\n",
       " 'bc_open_to_buy',\n",
       " 'bc_util',\n",
       " 'chargeoff_within_12_mths',\n",
       " 'delinq_amnt',\n",
       " 'mo_sin_old_il_acct',\n",
       " 'mo_sin_old_rev_tl_op',\n",
       " 'mo_sin_rcnt_rev_tl_op',\n",
       " 'mo_sin_rcnt_tl',\n",
       " 'mort_acc',\n",
       " 'mths_since_recent_bc',\n",
       " 'mths_since_recent_bc_dlq',\n",
       " 'mths_since_recent_inq',\n",
       " 'mths_since_recent_revol_delinq',\n",
       " 'num_accts_ever_120_pd',\n",
       " 'num_actv_bc_tl',\n",
       " 'num_actv_rev_tl',\n",
       " 'num_bc_sats',\n",
       " 'num_bc_tl',\n",
       " 'num_il_tl',\n",
       " 'num_op_rev_tl',\n",
       " 'num_rev_accts',\n",
       " 'num_rev_tl_bal_gt_0',\n",
       " 'num_sats',\n",
       " 'num_tl_120dpd_2m',\n",
       " 'num_tl_30dpd',\n",
       " 'num_tl_90g_dpd_24m',\n",
       " 'num_tl_op_past_12m',\n",
       " 'pct_tl_nvr_dlq',\n",
       " 'percent_bc_gt_75',\n",
       " 'pub_rec_bankruptcies',\n",
       " 'tax_liens',\n",
       " 'tot_hi_cred_lim',\n",
       " 'total_bal_ex_mort',\n",
       " 'total_bc_limit',\n",
       " 'total_il_high_credit_limit']"
      ]
     },
     "execution_count": 7,
     "metadata": {},
     "output_type": "execute_result"
    }
   ],
   "source": [
    "data.columns.to_list()"
   ]
  },
  {
   "cell_type": "code",
   "execution_count": 13,
   "id": "87ed54a5",
   "metadata": {},
   "outputs": [
    {
     "data": {
      "text/plain": [
       "id                                0\n",
       "member_id                         0\n",
       "loan_amnt                         0\n",
       "funded_amnt                       0\n",
       "funded_amnt_inv                   0\n",
       "                              ...  \n",
       "tax_liens                        39\n",
       "tot_hi_cred_lim               39717\n",
       "total_bal_ex_mort             39717\n",
       "total_bc_limit                39717\n",
       "total_il_high_credit_limit    39717\n",
       "Length: 111, dtype: int64"
      ]
     },
     "execution_count": 13,
     "metadata": {},
     "output_type": "execute_result"
    }
   ],
   "source": [
    "data.isna().sum()"
   ]
  },
  {
   "cell_type": "code",
   "execution_count": 10,
   "id": "eb9f1ff9",
   "metadata": {
    "scrolled": false
   },
   "outputs": [
    {
     "data": {
      "text/plain": [
       "39717    54\n",
       "0        43\n",
       "56        2\n",
       "2459      1\n",
       "1075      1\n",
       "12940     1\n",
       "11        1\n",
       "25682     1\n",
       "36931     1\n",
       "50        1\n",
       "71        1\n",
       "38577     1\n",
       "2         1\n",
       "697       1\n",
       "39        1\n",
       "dtype: int64"
      ]
     },
     "execution_count": 10,
     "metadata": {},
     "output_type": "execute_result"
    }
   ],
   "source": [
    "data.isna().sum().value_counts()"
   ]
  },
  {
   "cell_type": "markdown",
   "id": "730de4f0",
   "metadata": {},
   "source": [
    "##### Data info\n",
    "- It contains the complete loan data for all loans issued through the time period 2007 t0 2011 (given in module introduction).\n",
    "- There are 39717 rows and 111 columns\n",
    "- There are 54 columns with highest missing values 39717. I think we should remove these after looking into it carefully. Some of them might be ouput columns where we need to find the values.\n",
    "- Also few columns are there with many missing values. Some columns contain 1k, 2.4k, 12.9k, 25k, 37k, 38k missing values in it."
   ]
  },
  {
   "cell_type": "markdown",
   "id": "a378ac26",
   "metadata": {},
   "source": [
    "##### Let's first look at empty columns"
   ]
  },
  {
   "cell_type": "code",
   "execution_count": 56,
   "id": "1aa95024",
   "metadata": {},
   "outputs": [
    {
     "name": "stdout",
     "output_type": "stream",
     "text": [
      "Total empty columns are :  54\n",
      "['mths_since_last_major_derog', 'annual_inc_joint', 'dti_joint', 'verification_status_joint', 'tot_coll_amt', 'tot_cur_bal', 'open_acc_6m', 'open_il_6m', 'open_il_12m', 'open_il_24m', 'mths_since_rcnt_il', 'total_bal_il', 'il_util', 'open_rv_12m', 'open_rv_24m', 'max_bal_bc', 'all_util', 'total_rev_hi_lim', 'inq_fi', 'total_cu_tl', 'inq_last_12m', 'acc_open_past_24mths', 'avg_cur_bal', 'bc_open_to_buy', 'bc_util', 'mo_sin_old_il_acct', 'mo_sin_old_rev_tl_op', 'mo_sin_rcnt_rev_tl_op', 'mo_sin_rcnt_tl', 'mort_acc', 'mths_since_recent_bc', 'mths_since_recent_bc_dlq', 'mths_since_recent_inq', 'mths_since_recent_revol_delinq', 'num_accts_ever_120_pd', 'num_actv_bc_tl', 'num_actv_rev_tl', 'num_bc_sats', 'num_bc_tl', 'num_il_tl', 'num_op_rev_tl', 'num_rev_accts', 'num_rev_tl_bal_gt_0', 'num_sats', 'num_tl_120dpd_2m', 'num_tl_30dpd', 'num_tl_90g_dpd_24m', 'num_tl_op_past_12m', 'pct_tl_nvr_dlq', 'percent_bc_gt_75', 'tot_hi_cred_lim', 'total_bal_ex_mort', 'total_bc_limit', 'total_il_high_credit_limit']\n"
     ]
    }
   ],
   "source": [
    "empty_columns = data.columns[data.isna().sum() == len(data)].to_list()\n",
    "print(\"Total empty columns are : \" , len(empty_columns))\n",
    "print(empty_columns)"
   ]
  },
  {
   "cell_type": "code",
   "execution_count": 29,
   "id": "343502d5",
   "metadata": {},
   "outputs": [
    {
     "data": {
      "text/html": [
       "<div>\n",
       "<style scoped>\n",
       "    .dataframe tbody tr th:only-of-type {\n",
       "        vertical-align: middle;\n",
       "    }\n",
       "\n",
       "    .dataframe tbody tr th {\n",
       "        vertical-align: top;\n",
       "    }\n",
       "\n",
       "    .dataframe thead th {\n",
       "        text-align: right;\n",
       "    }\n",
       "</style>\n",
       "<table border=\"1\" class=\"dataframe\">\n",
       "  <thead>\n",
       "    <tr style=\"text-align: right;\">\n",
       "      <th></th>\n",
       "      <th>id</th>\n",
       "      <th>member_id</th>\n",
       "      <th>loan_amnt</th>\n",
       "      <th>funded_amnt</th>\n",
       "      <th>funded_amnt_inv</th>\n",
       "      <th>term</th>\n",
       "      <th>int_rate</th>\n",
       "      <th>installment</th>\n",
       "      <th>grade</th>\n",
       "      <th>sub_grade</th>\n",
       "      <th>...</th>\n",
       "      <th>num_tl_90g_dpd_24m</th>\n",
       "      <th>num_tl_op_past_12m</th>\n",
       "      <th>pct_tl_nvr_dlq</th>\n",
       "      <th>percent_bc_gt_75</th>\n",
       "      <th>pub_rec_bankruptcies</th>\n",
       "      <th>tax_liens</th>\n",
       "      <th>tot_hi_cred_lim</th>\n",
       "      <th>total_bal_ex_mort</th>\n",
       "      <th>total_bc_limit</th>\n",
       "      <th>total_il_high_credit_limit</th>\n",
       "    </tr>\n",
       "  </thead>\n",
       "  <tbody>\n",
       "    <tr>\n",
       "      <th>0</th>\n",
       "      <td>NaN</td>\n",
       "      <td>NaN</td>\n",
       "      <td>NaN</td>\n",
       "      <td>NaN</td>\n",
       "      <td>NaN</td>\n",
       "      <td>NaN</td>\n",
       "      <td>NaN</td>\n",
       "      <td>NaN</td>\n",
       "      <td>NaN</td>\n",
       "      <td>NaN</td>\n",
       "      <td>...</td>\n",
       "      <td>NaN</td>\n",
       "      <td>NaN</td>\n",
       "      <td>NaN</td>\n",
       "      <td>NaN</td>\n",
       "      <td>NaN</td>\n",
       "      <td>NaN</td>\n",
       "      <td>NaN</td>\n",
       "      <td>NaN</td>\n",
       "      <td>NaN</td>\n",
       "      <td>NaN</td>\n",
       "    </tr>\n",
       "    <tr>\n",
       "      <th>1</th>\n",
       "      <td>NaN</td>\n",
       "      <td>NaN</td>\n",
       "      <td>NaN</td>\n",
       "      <td>NaN</td>\n",
       "      <td>NaN</td>\n",
       "      <td>NaN</td>\n",
       "      <td>NaN</td>\n",
       "      <td>NaN</td>\n",
       "      <td>NaN</td>\n",
       "      <td>NaN</td>\n",
       "      <td>...</td>\n",
       "      <td>NaN</td>\n",
       "      <td>NaN</td>\n",
       "      <td>NaN</td>\n",
       "      <td>NaN</td>\n",
       "      <td>NaN</td>\n",
       "      <td>NaN</td>\n",
       "      <td>NaN</td>\n",
       "      <td>NaN</td>\n",
       "      <td>NaN</td>\n",
       "      <td>NaN</td>\n",
       "    </tr>\n",
       "    <tr>\n",
       "      <th>2</th>\n",
       "      <td>NaN</td>\n",
       "      <td>NaN</td>\n",
       "      <td>NaN</td>\n",
       "      <td>NaN</td>\n",
       "      <td>NaN</td>\n",
       "      <td>NaN</td>\n",
       "      <td>NaN</td>\n",
       "      <td>NaN</td>\n",
       "      <td>NaN</td>\n",
       "      <td>NaN</td>\n",
       "      <td>...</td>\n",
       "      <td>NaN</td>\n",
       "      <td>NaN</td>\n",
       "      <td>NaN</td>\n",
       "      <td>NaN</td>\n",
       "      <td>NaN</td>\n",
       "      <td>NaN</td>\n",
       "      <td>NaN</td>\n",
       "      <td>NaN</td>\n",
       "      <td>NaN</td>\n",
       "      <td>NaN</td>\n",
       "    </tr>\n",
       "    <tr>\n",
       "      <th>3</th>\n",
       "      <td>NaN</td>\n",
       "      <td>NaN</td>\n",
       "      <td>NaN</td>\n",
       "      <td>NaN</td>\n",
       "      <td>NaN</td>\n",
       "      <td>NaN</td>\n",
       "      <td>NaN</td>\n",
       "      <td>NaN</td>\n",
       "      <td>NaN</td>\n",
       "      <td>NaN</td>\n",
       "      <td>...</td>\n",
       "      <td>NaN</td>\n",
       "      <td>NaN</td>\n",
       "      <td>NaN</td>\n",
       "      <td>NaN</td>\n",
       "      <td>NaN</td>\n",
       "      <td>NaN</td>\n",
       "      <td>NaN</td>\n",
       "      <td>NaN</td>\n",
       "      <td>NaN</td>\n",
       "      <td>NaN</td>\n",
       "    </tr>\n",
       "    <tr>\n",
       "      <th>4</th>\n",
       "      <td>NaN</td>\n",
       "      <td>NaN</td>\n",
       "      <td>NaN</td>\n",
       "      <td>NaN</td>\n",
       "      <td>NaN</td>\n",
       "      <td>NaN</td>\n",
       "      <td>NaN</td>\n",
       "      <td>NaN</td>\n",
       "      <td>NaN</td>\n",
       "      <td>NaN</td>\n",
       "      <td>...</td>\n",
       "      <td>NaN</td>\n",
       "      <td>NaN</td>\n",
       "      <td>NaN</td>\n",
       "      <td>NaN</td>\n",
       "      <td>NaN</td>\n",
       "      <td>NaN</td>\n",
       "      <td>NaN</td>\n",
       "      <td>NaN</td>\n",
       "      <td>NaN</td>\n",
       "      <td>NaN</td>\n",
       "    </tr>\n",
       "  </tbody>\n",
       "</table>\n",
       "<p>5 rows × 111 columns</p>\n",
       "</div>"
      ],
      "text/plain": [
       "   id  member_id  loan_amnt  funded_amnt  funded_amnt_inv term int_rate  \\\n",
       "0 NaN        NaN        NaN          NaN              NaN  NaN      NaN   \n",
       "1 NaN        NaN        NaN          NaN              NaN  NaN      NaN   \n",
       "2 NaN        NaN        NaN          NaN              NaN  NaN      NaN   \n",
       "3 NaN        NaN        NaN          NaN              NaN  NaN      NaN   \n",
       "4 NaN        NaN        NaN          NaN              NaN  NaN      NaN   \n",
       "\n",
       "   installment grade sub_grade  ... num_tl_90g_dpd_24m num_tl_op_past_12m  \\\n",
       "0          NaN   NaN       NaN  ...                NaN                NaN   \n",
       "1          NaN   NaN       NaN  ...                NaN                NaN   \n",
       "2          NaN   NaN       NaN  ...                NaN                NaN   \n",
       "3          NaN   NaN       NaN  ...                NaN                NaN   \n",
       "4          NaN   NaN       NaN  ...                NaN                NaN   \n",
       "\n",
       "  pct_tl_nvr_dlq  percent_bc_gt_75 pub_rec_bankruptcies tax_liens  \\\n",
       "0            NaN               NaN                  NaN       NaN   \n",
       "1            NaN               NaN                  NaN       NaN   \n",
       "2            NaN               NaN                  NaN       NaN   \n",
       "3            NaN               NaN                  NaN       NaN   \n",
       "4            NaN               NaN                  NaN       NaN   \n",
       "\n",
       "  tot_hi_cred_lim total_bal_ex_mort total_bc_limit total_il_high_credit_limit  \n",
       "0             NaN               NaN            NaN                        NaN  \n",
       "1             NaN               NaN            NaN                        NaN  \n",
       "2             NaN               NaN            NaN                        NaN  \n",
       "3             NaN               NaN            NaN                        NaN  \n",
       "4             NaN               NaN            NaN                        NaN  \n",
       "\n",
       "[5 rows x 111 columns]"
      ]
     },
     "execution_count": 29,
     "metadata": {},
     "output_type": "execute_result"
    }
   ],
   "source": [
    "# Checking once again before dropping these 54 empty columns\n",
    "empty_data = data[data[empty_columns]]\n",
    "empty_data.head()"
   ]
  },
  {
   "cell_type": "markdown",
   "id": "e0050c28",
   "metadata": {},
   "source": [
    "# Data cleaning"
   ]
  },
  {
   "cell_type": "markdown",
   "id": "5cd6efa9",
   "metadata": {},
   "source": [
    "### data1 - Creating Subset of data without empty columns"
   ]
  },
  {
   "cell_type": "code",
   "execution_count": 28,
   "id": "9d877f72",
   "metadata": {},
   "outputs": [
    {
     "data": {
      "text/plain": [
       "(39717, 57)"
      ]
     },
     "execution_count": 28,
     "metadata": {},
     "output_type": "execute_result"
    }
   ],
   "source": [
    "data1 = data.drop(columns=empty_columns, inplace=False)\n",
    "data1.shape"
   ]
  },
  {
   "cell_type": "markdown",
   "id": "87b47ab9",
   "metadata": {},
   "source": [
    "### data2 - Creating Subset of data1 after dropping columns which contains high missing values and not useful data"
   ]
  },
  {
   "cell_type": "markdown",
   "id": "f591e29a",
   "metadata": {},
   "source": [
    "##### Columns having high number of missing values\n",
    "- next_pymnt_d \n",
    "- mths_since_last_record\n",
    "- mths_since_last_delinq\n",
    "- desc \n",
    "##### Columns having only one value thoughout the rows\n",
    "- initial_list_status\n",
    "- acc_now_delinq\n",
    "- application_type\n",
    "- chargeoff_within_12_mths\n",
    "- collections_12_mths_ex_med\n",
    "- delinq_amnt\n",
    "- pymnt_plan\n",
    "\n",
    "##### Columns having most of the values are 0 and remaining are outliers\n",
    "- tax_liens\n",
    "- recoveries\n",
    "- total_rec_late_fee\n",
    "- out_prncp_inv\n",
    "- pub_rec_bankruptcies\n",
    "- policy_code\n",
    "- pub_rec\n",
    "- out_prncp\n",
    "- delinq_2yrs\n",
    "- collection_recovery_fee "
   ]
  },
  {
   "cell_type": "code",
   "execution_count": 196,
   "id": "5c978a7c",
   "metadata": {},
   "outputs": [
    {
     "data": {
      "text/plain": [
       "(39717, 36)"
      ]
     },
     "execution_count": 196,
     "metadata": {},
     "output_type": "execute_result"
    }
   ],
   "source": [
    "dropping_columns = ['tax_liens', 'recoveries', 'total_rec_late_fee','pymnt_plan', 'pub_rec_bankruptcies', 'pub_rec', 'policy_code', 'out_prncp_inv', 'out_prncp', 'delinq_2yrs', 'delinq_amnt', 'collections_12_mths_ex_med','collection_recovery_fee', 'chargeoff_within_12_mths', 'application_type', 'acc_now_delinq', 'initial_list_status', 'next_pymnt_d', 'mths_since_last_record', 'mths_since_last_delinq','desc']\n",
    "data2 = data1.drop(columns=dropping_columns, inplace=False)\n",
    "data2.shape"
   ]
  },
  {
   "cell_type": "markdown",
   "id": "774612aa",
   "metadata": {},
   "source": [
    "##### This is how I found which columns to drop "
   ]
  },
  {
   "cell_type": "code",
   "execution_count": 195,
   "id": "6a156b68",
   "metadata": {
    "scrolled": false
   },
   "outputs": [
    {
     "name": "stdout",
     "output_type": "stream",
     "text": [
      "\u001b[34mannual_inc\u001b[0m\n",
      "60000.0    1505\n",
      "50000.0    1057\n",
      "40000.0     876\n",
      "45000.0     830\n",
      "30000.0     825\n",
      "           ... \n",
      "56820.0       1\n",
      "45314.0       1\n",
      "53913.0       1\n",
      "62880.0       1\n",
      "27376.0       1\n",
      "Name: annual_inc, Length: 5318, dtype: int64\n"
     ]
    },
    {
     "data": {
      "image/png": "[encoded data removed]",
      "text/plain": [
       "<Figure size 640x480 with 1 Axes>"
      ]
     },
     "metadata": {},
     "output_type": "display_data"
    },
    {
     "name": "stdout",
     "output_type": "stream",
     "text": [
      "count    3.971700e+04\n",
      "mean     6.896893e+04\n",
      "std      6.379377e+04\n",
      "min      4.000000e+03\n",
      "25%      4.040400e+04\n",
      "50%      5.900000e+04\n",
      "75%      8.230000e+04\n",
      "max      6.000000e+06\n",
      "Name: annual_inc, dtype: float64\n",
      "__________________________________________________\n",
      "\u001b[34mverification_status\u001b[0m\n",
      "Not Verified       16921\n",
      "Verified           12809\n",
      "Source Verified     9987\n",
      "Name: verification_status, dtype: int64\n",
      "\u001b[31mError for verification_status\u001b[0m\n",
      "__________________________________________________\n",
      "\u001b[34missue_d\u001b[0m\n",
      "Dec-11    2260\n",
      "Nov-11    2223\n",
      "Oct-11    2114\n",
      "Sep-11    2063\n",
      "Aug-11    1928\n",
      "Jul-11    1870\n",
      "Jun-11    1827\n",
      "May-11    1689\n",
      "Apr-11    1562\n",
      "Mar-11    1443\n",
      "Jan-11    1380\n",
      "Feb-11    1297\n",
      "Dec-10    1267\n",
      "Oct-10    1132\n",
      "Nov-10    1121\n",
      "Jul-10    1119\n",
      "Sep-10    1086\n",
      "Aug-10    1078\n",
      "Jun-10    1029\n",
      "May-10     920\n",
      "Apr-10     827\n",
      "Mar-10     737\n",
      "Feb-10     627\n",
      "Nov-09     602\n",
      "Dec-09     598\n",
      "Jan-10     589\n",
      "Oct-09     545\n",
      "Sep-09     449\n",
      "Aug-09     408\n",
      "Jul-09     374\n",
      "Jun-09     356\n",
      "May-09     319\n",
      "Apr-09     290\n",
      "Mar-09     276\n",
      "Feb-09     260\n",
      "Jan-09     239\n",
      "Mar-08     236\n",
      "Dec-08     223\n",
      "Nov-08     184\n",
      "Feb-08     174\n",
      "Jan-08     171\n",
      "Apr-08     155\n",
      "Oct-08      96\n",
      "Dec-07      85\n",
      "Jul-08      83\n",
      "May-08      71\n",
      "Aug-08      71\n",
      "Jun-08      66\n",
      "Oct-07      47\n",
      "Nov-07      37\n",
      "Aug-07      33\n",
      "Sep-08      32\n",
      "Jul-07      30\n",
      "Sep-07      18\n",
      "Jun-07       1\n",
      "Name: issue_d, dtype: int64\n",
      "\u001b[31mError for issue_d\u001b[0m\n",
      "__________________________________________________\n",
      "\u001b[34mloan_status\u001b[0m\n",
      "Fully Paid     32950\n",
      "Charged Off     5627\n",
      "Current         1140\n",
      "Name: loan_status, dtype: int64\n",
      "\u001b[31mError for loan_status\u001b[0m\n",
      "__________________________________________________\n",
      "\u001b[34mpymnt_plan\u001b[0m\n",
      "n    39717\n",
      "Name: pymnt_plan, dtype: int64\n",
      "\u001b[31mError for pymnt_plan\u001b[0m\n",
      "__________________________________________________\n",
      "\u001b[34murl\u001b[0m\n",
      "https://lendingclub.com/browse/loanDetail.action?loan_id=1077501    1\n",
      "https://lendingclub.com/browse/loanDetail.action?loan_id=568534     1\n",
      "https://lendingclub.com/browse/loanDetail.action?loan_id=568659     1\n",
      "https://lendingclub.com/browse/loanDetail.action?loan_id=567165     1\n",
      "https://lendingclub.com/browse/loanDetail.action?loan_id=568531     1\n",
      "                                                                   ..\n",
      "https://lendingclub.com/browse/loanDetail.action?loan_id=785667     1\n",
      "https://lendingclub.com/browse/loanDetail.action?loan_id=785659     1\n",
      "https://lendingclub.com/browse/loanDetail.action?loan_id=785630     1\n",
      "https://lendingclub.com/browse/loanDetail.action?loan_id=785626     1\n",
      "https://lendingclub.com/browse/loanDetail.action?loan_id=87023      1\n",
      "Name: url, Length: 39717, dtype: int64\n",
      "\u001b[31mError for url\u001b[0m\n",
      "__________________________________________________\n",
      "\u001b[34mpurpose\u001b[0m\n",
      "debt_consolidation    18641\n",
      "credit_card            5130\n",
      "other                  3993\n",
      "home_improvement       2976\n",
      "major_purchase         2187\n",
      "small_business         1828\n",
      "car                    1549\n",
      "wedding                 947\n",
      "medical                 693\n",
      "moving                  583\n",
      "vacation                381\n",
      "house                   381\n",
      "educational             325\n",
      "renewable_energy        103\n",
      "Name: purpose, dtype: int64\n",
      "\u001b[31mError for purpose\u001b[0m\n",
      "__________________________________________________\n",
      "\u001b[34mtitle\u001b[0m\n",
      "Debt Consolidation                  2184\n",
      "Debt Consolidation Loan             1729\n",
      "Personal Loan                        659\n",
      "Consolidation                        517\n",
      "debt consolidation                   505\n",
      "                                    ... \n",
      "your rate is better than my rate       1\n",
      "Concession Trailer                     1\n",
      "gregs                                  1\n",
      "EZover                                 1\n",
      "JAL Loan                               1\n",
      "Name: title, Length: 19615, dtype: int64\n",
      "\u001b[31mError for title\u001b[0m\n",
      "__________________________________________________\n",
      "\u001b[34mzip_code\u001b[0m\n",
      "100xx    597\n",
      "945xx    545\n",
      "112xx    516\n",
      "606xx    503\n",
      "070xx    473\n",
      "        ... \n",
      "381xx      1\n",
      "378xx      1\n",
      "739xx      1\n",
      "396xx      1\n",
      "469xx      1\n",
      "Name: zip_code, Length: 823, dtype: int64\n",
      "\u001b[31mError for zip_code\u001b[0m\n",
      "__________________________________________________\n",
      "\u001b[34maddr_state\u001b[0m\n",
      "CA    7099\n",
      "NY    3812\n",
      "FL    2866\n",
      "TX    2727\n",
      "NJ    1850\n",
      "IL    1525\n",
      "PA    1517\n",
      "VA    1407\n",
      "GA    1398\n",
      "MA    1340\n",
      "OH    1223\n",
      "MD    1049\n",
      "AZ     879\n",
      "WA     840\n",
      "CO     792\n",
      "NC     788\n",
      "CT     751\n",
      "MI     720\n",
      "MO     686\n",
      "MN     615\n",
      "NV     497\n",
      "SC     472\n",
      "WI     460\n",
      "AL     452\n",
      "OR     451\n",
      "LA     436\n",
      "KY     325\n",
      "OK     299\n",
      "KS     271\n",
      "UT     258\n",
      "AR     245\n",
      "DC     214\n",
      "RI     198\n",
      "NM     189\n",
      "WV     177\n",
      "HI     174\n",
      "NH     171\n",
      "DE     114\n",
      "MT      85\n",
      "WY      83\n",
      "AK      80\n",
      "SD      64\n",
      "VT      54\n",
      "MS      19\n",
      "TN      17\n",
      "IN       9\n",
      "ID       6\n",
      "IA       5\n",
      "NE       5\n",
      "ME       3\n",
      "Name: addr_state, dtype: int64\n",
      "\u001b[31mError for addr_state\u001b[0m\n",
      "__________________________________________________\n",
      "\u001b[34mdti\u001b[0m\n",
      "0.00     183\n",
      "12.00     51\n",
      "18.00     45\n",
      "19.20     40\n",
      "13.20     39\n",
      "        ... \n",
      "29.13      1\n",
      "25.31      1\n",
      "29.76      1\n",
      "28.42      1\n",
      "25.43      1\n",
      "Name: dti, Length: 2868, dtype: int64\n"
     ]
    },
    {
     "data": {
      "image/png": "[encoded data removed]",
      "text/plain": [
       "<Figure size 640x480 with 1 Axes>"
      ]
     },
     "metadata": {},
     "output_type": "display_data"
    },
    {
     "name": "stdout",
     "output_type": "stream",
     "text": [
      "count    39717.000000\n",
      "mean        13.315130\n",
      "std          6.678594\n",
      "min          0.000000\n",
      "25%          8.170000\n",
      "50%         13.400000\n",
      "75%         18.600000\n",
      "max         29.990000\n",
      "Name: dti, dtype: float64\n",
      "__________________________________________________\n",
      "\u001b[34mearliest_cr_line\u001b[0m\n",
      "Nov-98    370\n",
      "Oct-99    366\n",
      "Dec-98    348\n",
      "Oct-00    346\n",
      "Dec-97    329\n",
      "         ... \n",
      "Feb-66      1\n",
      "Dec-61      1\n",
      "Oct-54      1\n",
      "Jun-72      1\n",
      "Oct-74      1\n",
      "Name: earliest_cr_line, Length: 526, dtype: int64\n",
      "\u001b[31mError for earliest_cr_line\u001b[0m\n",
      "__________________________________________________\n",
      "\u001b[34minq_last_6mths\u001b[0m\n",
      "0    19300\n",
      "1    10971\n",
      "2     5812\n",
      "3     3048\n",
      "4      326\n",
      "5      146\n",
      "6       64\n",
      "7       35\n",
      "8       15\n",
      "Name: inq_last_6mths, dtype: int64\n"
     ]
    },
    {
     "data": {
      "image/png": "[encoded data removed]",
      "text/plain": [
       "<Figure size 640x480 with 1 Axes>"
      ]
     },
     "metadata": {},
     "output_type": "display_data"
    },
    {
     "name": "stdout",
     "output_type": "stream",
     "text": [
      "count    39717.000000\n",
      "mean         0.869200\n",
      "std          1.070219\n",
      "min          0.000000\n",
      "25%          0.000000\n",
      "50%          1.000000\n",
      "75%          1.000000\n",
      "max          8.000000\n",
      "Name: inq_last_6mths, dtype: float64\n",
      "__________________________________________________\n",
      "\u001b[34mopen_acc\u001b[0m\n",
      "7     4018\n",
      "6     3946\n",
      "8     3936\n",
      "9     3718\n",
      "10    3223\n",
      "5     3183\n",
      "11    2746\n",
      "4     2343\n",
      "12    2273\n",
      "13    1911\n",
      "3     1493\n",
      "14    1487\n",
      "15    1177\n",
      "16     940\n",
      "17     741\n",
      "2      605\n",
      "18     533\n",
      "19     396\n",
      "20     289\n",
      "21     244\n",
      "22     143\n",
      "23      97\n",
      "24      81\n",
      "25      55\n",
      "26      34\n",
      "28      25\n",
      "27      22\n",
      "30      15\n",
      "29      13\n",
      "31       7\n",
      "34       5\n",
      "32       4\n",
      "35       4\n",
      "33       3\n",
      "36       2\n",
      "39       1\n",
      "38       1\n",
      "44       1\n",
      "41       1\n",
      "42       1\n",
      "Name: open_acc, dtype: int64\n"
     ]
    },
    {
     "data": {
      "image/png": "[encoded data removed]",
      "text/plain": [
       "<Figure size 640x480 with 1 Axes>"
      ]
     },
     "metadata": {},
     "output_type": "display_data"
    },
    {
     "name": "stdout",
     "output_type": "stream",
     "text": [
      "count    39717.000000\n",
      "mean         9.294408\n",
      "std          4.400282\n",
      "min          2.000000\n",
      "25%          6.000000\n",
      "50%          9.000000\n",
      "75%         12.000000\n",
      "max         44.000000\n",
      "Name: open_acc, dtype: float64\n",
      "__________________________________________________\n",
      "\u001b[34mrevol_bal\u001b[0m\n",
      "0        994\n",
      "298       14\n",
      "255       14\n",
      "1         12\n",
      "682       11\n",
      "        ... \n",
      "21424      1\n",
      "30747      1\n",
      "23862      1\n",
      "20197      1\n",
      "85607      1\n",
      "Name: revol_bal, Length: 21711, dtype: int64\n"
     ]
    },
    {
     "data": {
      "image/png": "[encoded data removed]",
      "text/plain": [
       "<Figure size 640x480 with 1 Axes>"
      ]
     },
     "metadata": {},
     "output_type": "display_data"
    },
    {
     "name": "stdout",
     "output_type": "stream",
     "text": [
      "count     39717.000000\n",
      "mean      13382.528086\n",
      "std       15885.016641\n",
      "min           0.000000\n",
      "25%        3703.000000\n",
      "50%        8850.000000\n",
      "75%       17058.000000\n",
      "max      149588.000000\n",
      "Name: revol_bal, dtype: float64\n",
      "__________________________________________________\n",
      "\u001b[34mrevol_util\u001b[0m\n",
      "0%        977\n",
      "0.20%      63\n",
      "63%        62\n",
      "40.70%     58\n",
      "66.70%     58\n",
      "         ... \n",
      "25.74%      1\n",
      "47.36%      1\n",
      "24.65%      1\n",
      "10.61%      1\n",
      "7.28%       1\n",
      "Name: revol_util, Length: 1089, dtype: int64\n",
      "\u001b[31mError for revol_util\u001b[0m\n",
      "__________________________________________________\n",
      "\u001b[34mtotal_acc\u001b[0m\n",
      "16    1471\n",
      "15    1462\n",
      "17    1457\n",
      "14    1445\n",
      "20    1428\n",
      "      ... \n",
      "74       1\n",
      "77       1\n",
      "78       1\n",
      "87       1\n",
      "90       1\n",
      "Name: total_acc, Length: 82, dtype: int64\n"
     ]
    },
    {
     "data": {
      "image/png": "[encoded data removed]",
      "text/plain": [
       "<Figure size 640x480 with 1 Axes>"
      ]
     },
     "metadata": {},
     "output_type": "display_data"
    },
    {
     "name": "stdout",
     "output_type": "stream",
     "text": [
      "count    39717.000000\n",
      "mean        22.088828\n",
      "std         11.401709\n",
      "min          2.000000\n",
      "25%         13.000000\n",
      "50%         20.000000\n",
      "75%         29.000000\n",
      "max         90.000000\n",
      "Name: total_acc, dtype: float64\n",
      "__________________________________________________\n",
      "\u001b[34mtotal_pymnt\u001b[0m\n",
      "11196.569430    26\n",
      "0.000000        16\n",
      "11784.232230    16\n",
      "10956.775960    16\n",
      "5478.387981     15\n",
      "                ..\n",
      "17768.430010     1\n",
      "12794.806580     1\n",
      "6193.803706      1\n",
      "34797.769170     1\n",
      "9195.263334      1\n",
      "Name: total_pymnt, Length: 37850, dtype: int64\n"
     ]
    },
    {
     "data": {
      "image/png": "[encoded data removed]",
      "text/plain": [
       "<Figure size 640x480 with 1 Axes>"
      ]
     },
     "metadata": {},
     "output_type": "display_data"
    },
    {
     "name": "stdout",
     "output_type": "stream",
     "text": [
      "count    39717.000000\n",
      "mean     12153.596544\n",
      "std       9042.040766\n",
      "min          0.000000\n",
      "25%       5576.930000\n",
      "50%       9899.640319\n",
      "75%      16534.433040\n",
      "max      58563.679930\n",
      "Name: total_pymnt, dtype: float64\n",
      "__________________________________________________\n",
      "\u001b[34mtotal_pymnt_inv\u001b[0m\n",
      "0.00        165\n",
      "6514.52      16\n",
      "5478.39      14\n",
      "13148.14     14\n",
      "11196.57     12\n",
      "           ... \n",
      "17702.50      1\n",
      "19026.06      1\n",
      "7355.24       1\n",
      "387.55        1\n",
      "980.83        1\n",
      "Name: total_pymnt_inv, Length: 37518, dtype: int64\n"
     ]
    },
    {
     "data": {
      "image/png": "[encoded data removed]",
      "text/plain": [
       "<Figure size 640x480 with 1 Axes>"
      ]
     },
     "metadata": {},
     "output_type": "display_data"
    },
    {
     "name": "stdout",
     "output_type": "stream",
     "text": [
      "count    39717.000000\n",
      "mean     11567.149118\n",
      "std       8942.672613\n",
      "min          0.000000\n",
      "25%       5112.310000\n",
      "50%       9287.150000\n",
      "75%      15798.810000\n",
      "max      58563.680000\n",
      "Name: total_pymnt_inv, dtype: float64\n",
      "__________________________________________________\n",
      "\u001b[34mtotal_rec_prncp\u001b[0m\n",
      "10000.00    2293\n",
      "12000.00    1805\n",
      "5000.00     1702\n",
      "6000.00     1637\n",
      "15000.00    1400\n",
      "            ... \n",
      "1097.81        1\n",
      "1410.30        1\n",
      "6968.65        1\n",
      "3477.49        1\n",
      "16077.42       1\n",
      "Name: total_rec_prncp, Length: 7976, dtype: int64\n"
     ]
    },
    {
     "data": {
      "image/png": "[encoded data removed]",
      "text/plain": [
       "<Figure size 640x480 with 1 Axes>"
      ]
     },
     "metadata": {},
     "output_type": "display_data"
    },
    {
     "name": "stdout",
     "output_type": "stream",
     "text": [
      "count    39717.000000\n",
      "mean      9793.348813\n",
      "std       7065.522127\n",
      "min          0.000000\n",
      "25%       4600.000000\n",
      "50%       8000.000000\n",
      "75%      13653.260000\n",
      "max      35000.020000\n",
      "Name: total_rec_prncp, dtype: float64\n",
      "__________________________________________________\n",
      "\u001b[34mtotal_rec_int\u001b[0m\n",
      "0.00       71\n",
      "1196.57    26\n",
      "514.52     19\n",
      "956.78     17\n",
      "1784.23    17\n",
      "           ..\n",
      "494.53      1\n",
      "1119.88     1\n",
      "62.31       1\n",
      "2656.10     1\n",
      "1695.26     1\n",
      "Name: total_rec_int, Length: 35148, dtype: int64\n"
     ]
    },
    {
     "data": {
      "image/png": "[encoded data removed]",
      "text/plain": [
       "<Figure size 640x480 with 1 Axes>"
      ]
     },
     "metadata": {},
     "output_type": "display_data"
    },
    {
     "name": "stdout",
     "output_type": "stream",
     "text": [
      "count    39717.000000\n",
      "mean      2263.663172\n",
      "std       2608.111964\n",
      "min          0.000000\n",
      "25%        662.180000\n",
      "50%       1348.910000\n",
      "75%       2833.400000\n",
      "max      23563.680000\n",
      "Name: total_rec_int, dtype: float64\n",
      "__________________________________________________\n",
      "\u001b[34mtotal_rec_late_fee\u001b[0m\n",
      "0.000000     37671\n",
      "15.000000      255\n",
      "15.000000       58\n",
      "30.000000       55\n",
      "15.000000       47\n",
      "             ...  \n",
      "35.286832        1\n",
      "15.000000        1\n",
      "14.777500        1\n",
      "14.967774        1\n",
      "19.890000        1\n",
      "Name: total_rec_late_fee, Length: 1356, dtype: int64\n"
     ]
    },
    {
     "data": {
      "image/png": "[encoded data removed]",
      "text/plain": [
       "<Figure size 640x480 with 1 Axes>"
      ]
     },
     "metadata": {},
     "output_type": "display_data"
    },
    {
     "name": "stdout",
     "output_type": "stream",
     "text": [
      "count    39717.000000\n",
      "mean         1.363015\n",
      "std          7.289979\n",
      "min          0.000000\n",
      "25%          0.000000\n",
      "50%          0.000000\n",
      "75%          0.000000\n",
      "max        180.200000\n",
      "Name: total_rec_late_fee, dtype: float64\n",
      "__________________________________________________\n",
      "\u001b[34mrecoveries\u001b[0m\n",
      "0.00       35499\n",
      "11.29          4\n",
      "10.40          4\n",
      "10.66          3\n",
      "44.92          3\n",
      "           ...  \n",
      "764.69         1\n",
      "653.08         1\n",
      "1080.96        1\n",
      "878.19         1\n",
      "21.29          1\n",
      "Name: recoveries, Length: 4040, dtype: int64\n"
     ]
    },
    {
     "data": {
      "image/png": "[encoded data removed]",
      "text/plain": [
       "<Figure size 640x480 with 1 Axes>"
      ]
     },
     "metadata": {},
     "output_type": "display_data"
    },
    {
     "name": "stdout",
     "output_type": "stream",
     "text": [
      "count    39717.000000\n",
      "mean        95.221624\n",
      "std        688.744771\n",
      "min          0.000000\n",
      "25%          0.000000\n",
      "50%          0.000000\n",
      "75%          0.000000\n",
      "max      29623.350000\n",
      "Name: recoveries, dtype: float64\n",
      "__________________________________________________\n",
      "\u001b[34mlast_pymnt_d\u001b[0m\n",
      "May-16    1256\n",
      "Mar-13    1026\n",
      "Dec-14     945\n",
      "May-13     907\n",
      "Feb-13     869\n",
      "          ... \n",
      "Jun-08      10\n",
      "Nov-08      10\n",
      "Mar-08       5\n",
      "Jan-08       4\n",
      "Feb-08       1\n",
      "Name: last_pymnt_d, Length: 101, dtype: int64\n",
      "\u001b[31mError for last_pymnt_d\u001b[0m\n",
      "__________________________________________________\n",
      "\u001b[34mlast_pymnt_amnt\u001b[0m\n",
      "0.00       74\n",
      "276.06     21\n",
      "200.00     17\n",
      "50.00      16\n",
      "100.00     15\n",
      "           ..\n",
      "1763.87     1\n",
      "172.27      1\n",
      "889.67      1\n",
      "150.73      1\n",
      "256.59      1\n",
      "Name: last_pymnt_amnt, Length: 34930, dtype: int64\n"
     ]
    },
    {
     "data": {
      "image/png": "[encoded data removed]",
      "text/plain": [
       "<Figure size 640x480 with 1 Axes>"
      ]
     },
     "metadata": {},
     "output_type": "display_data"
    },
    {
     "name": "stdout",
     "output_type": "stream",
     "text": [
      "count    39717.000000\n",
      "mean      2678.826162\n",
      "std       4447.136012\n",
      "min          0.000000\n",
      "25%        218.680000\n",
      "50%        546.140000\n",
      "75%       3293.160000\n",
      "max      36115.200000\n",
      "Name: last_pymnt_amnt, dtype: float64\n",
      "__________________________________________________\n",
      "\u001b[34mlast_credit_pull_d\u001b[0m\n",
      "May-16    10308\n",
      "Apr-16     2547\n",
      "Mar-16     1123\n",
      "Feb-13      843\n",
      "Feb-16      736\n",
      "          ...  \n",
      "May-08        1\n",
      "Jun-08        1\n",
      "Jul-08        1\n",
      "May-07        1\n",
      "Jul-07        1\n",
      "Name: last_credit_pull_d, Length: 106, dtype: int64\n",
      "\u001b[31mError for last_credit_pull_d\u001b[0m\n",
      "__________________________________________________\n",
      "\u001b[34mtax_liens\u001b[0m\n",
      "0.0    39678\n",
      "Name: tax_liens, dtype: int64\n"
     ]
    },
    {
     "data": {
      "image/png": "[encoded data removed]",
      "text/plain": [
       "<Figure size 640x480 with 1 Axes>"
      ]
     },
     "metadata": {},
     "output_type": "display_data"
    },
    {
     "name": "stdout",
     "output_type": "stream",
     "text": [
      "count    39678.0\n",
      "mean         0.0\n",
      "std          0.0\n",
      "min          0.0\n",
      "25%          0.0\n",
      "50%          0.0\n",
      "75%          0.0\n",
      "max          0.0\n",
      "Name: tax_liens, dtype: float64\n",
      "__________________________________________________\n"
     ]
    }
   ],
   "source": [
    "columns = data1.columns\n",
    "for item in col:\n",
    "    print(colored(item, 'blue'))\n",
    "    print(data1[item].value_counts())\n",
    "    try: \n",
    "        plt.boxplot(data1[item])\n",
    "        plt.show()\n",
    "        print(data1[item].describe())\n",
    "\n",
    "    except:\n",
    "        print(colored(f'Error for {item}', 'red'))\n",
    "    print(\"_\" * 50)"
   ]
  },
  {
   "cell_type": "code",
   "execution_count": null,
   "id": "38a7c4a8",
   "metadata": {},
   "outputs": [],
   "source": [
    "issue_d\n",
    "url\n",
    "purpose\n",
    "title\n",
    "zip_code\n",
    "earliest_cr_line\n",
    "revol_util\n",
    "last_pymnt_d\n",
    "last_credit_pull_d\n",
    "\n"
   ]
  },
  {
   "cell_type": "code",
   "execution_count": null,
   "id": "f1e2fa0b",
   "metadata": {},
   "outputs": [],
   "source": [
    "drop\n",
    "single val"
   ]
  },
  {
   "cell_type": "markdown",
   "id": "d2fc8f28",
   "metadata": {},
   "source": [
    "### Categorical Variables\n",
    "\n",
    "- addr_state\n",
    "- term\n",
    "- verification_status\n",
    "- loan_status\n",
    "\n",
    "\n",
    "### Continuous Variables\n",
    "\n",
    "- annual_inc - We can do buckets and use for as categorical\n",
    "\n",
    "\n"
   ]
  },
  {
   "cell_type": "code",
   "execution_count": 179,
   "id": "6d46358c",
   "metadata": {},
   "outputs": [
    {
     "name": "stdout",
     "output_type": "stream",
     "text": [
      "<class 'pandas.core.frame.DataFrame'>\n",
      "RangeIndex: 39717 entries, 0 to 39716\n",
      "Data columns (total 36 columns):\n",
      " #   Column               Non-Null Count  Dtype  \n",
      "---  ------               --------------  -----  \n",
      " 0   id                   39717 non-null  int64  \n",
      " 1   member_id            39717 non-null  int64  \n",
      " 2   loan_amnt            39717 non-null  int64  \n",
      " 3   funded_amnt          39717 non-null  int64  \n",
      " 4   funded_amnt_inv      39717 non-null  float64\n",
      " 5   term                 39717 non-null  object \n",
      " 6   int_rate             39717 non-null  object \n",
      " 7   installment          39717 non-null  float64\n",
      " 8   grade                39717 non-null  object \n",
      " 9   sub_grade            39717 non-null  object \n",
      " 10  emp_title            37258 non-null  object \n",
      " 11  emp_length           38642 non-null  object \n",
      " 12  home_ownership       39717 non-null  object \n",
      " 13  annual_inc           39717 non-null  float64\n",
      " 14  verification_status  39717 non-null  object \n",
      " 15  issue_d              39717 non-null  object \n",
      " 16  loan_status          39717 non-null  object \n",
      " 17  url                  39717 non-null  object \n",
      " 18  purpose              39717 non-null  object \n",
      " 19  title                39706 non-null  object \n",
      " 20  zip_code             39717 non-null  object \n",
      " 21  addr_state           39717 non-null  object \n",
      " 22  dti                  39717 non-null  float64\n",
      " 23  earliest_cr_line     39717 non-null  object \n",
      " 24  inq_last_6mths       39717 non-null  int64  \n",
      " 25  open_acc             39717 non-null  int64  \n",
      " 26  revol_bal            39717 non-null  int64  \n",
      " 27  revol_util           39667 non-null  object \n",
      " 28  total_acc            39717 non-null  int64  \n",
      " 29  total_pymnt          39717 non-null  float64\n",
      " 30  total_pymnt_inv      39717 non-null  float64\n",
      " 31  total_rec_prncp      39717 non-null  float64\n",
      " 32  total_rec_int        39717 non-null  float64\n",
      " 33  last_pymnt_d         39646 non-null  object \n",
      " 34  last_pymnt_amnt      39717 non-null  float64\n",
      " 35  last_credit_pull_d   39715 non-null  object \n",
      "dtypes: float64(9), int64(8), object(19)\n",
      "memory usage: 10.9+ MB\n"
     ]
    }
   ],
   "source": [
    "data2.info()"
   ]
  },
  {
   "cell_type": "code",
   "execution_count": null,
   "id": "36f63eed",
   "metadata": {},
   "outputs": [],
   "source": []
  },
  {
   "cell_type": "code",
   "execution_count": null,
   "id": "5ceae1bc",
   "metadata": {},
   "outputs": [],
   "source": []
  },
  {
   "cell_type": "code",
   "execution_count": null,
   "id": "a7b8160c",
   "metadata": {},
   "outputs": [],
   "source": []
  },
  {
   "cell_type": "code",
   "execution_count": null,
   "id": "b95f9bfb",
   "metadata": {},
   "outputs": [],
   "source": []
  },
  {
   "cell_type": "markdown",
   "id": "41bfe95e",
   "metadata": {},
   "source": [
    "### Why we are dropping 'collection_recovery_fee' column?\n",
    "Because most of the values are 0 and remaining are outliers"
   ]
  },
  {
   "cell_type": "code",
   "execution_count": 89,
   "id": "fb672a56",
   "metadata": {},
   "outputs": [
    {
     "data": {
      "text/plain": [
       "0.0000      35935\n",
       "2.0000         12\n",
       "1.2000         10\n",
       "3.7100          9\n",
       "1.8800          8\n",
       "            ...  \n",
       "3.7900          1\n",
       "773.4900        1\n",
       "272.8250        1\n",
       "1.7697          1\n",
       "0.2300          1\n",
       "Name: collection_recovery_fee, Length: 2616, dtype: int64"
      ]
     },
     "execution_count": 89,
     "metadata": {},
     "output_type": "execute_result"
    }
   ],
   "source": [
    "data1['collection_recovery_fee'].value_counts()"
   ]
  },
  {
   "cell_type": "code",
   "execution_count": 94,
   "id": "189f4dd9",
   "metadata": {},
   "outputs": [
    {
     "data": {
      "image/png": "[encoded data removed]",
      "text/plain": [
       "<Figure size 640x480 with 1 Axes>"
      ]
     },
     "metadata": {},
     "output_type": "display_data"
    }
   ],
   "source": [
    "plt.boxplot(data1['collection_recovery_fee'])\n",
    "plt.show()"
   ]
  },
  {
   "cell_type": "code",
   "execution_count": 92,
   "id": "843afee8",
   "metadata": {},
   "outputs": [
    {
     "data": {
      "text/plain": [
       "count    39717.000000\n",
       "mean        12.406112\n",
       "std        148.671593\n",
       "min          0.000000\n",
       "25%          0.000000\n",
       "50%          0.000000\n",
       "75%          0.000000\n",
       "max       7002.190000\n",
       "Name: collection_recovery_fee, dtype: float64"
      ]
     },
     "execution_count": 92,
     "metadata": {},
     "output_type": "execute_result"
    }
   ],
   "source": [
    "data1['collection_recovery_fee'].describe()"
   ]
  },
  {
   "cell_type": "markdown",
   "id": "a78065f0",
   "metadata": {},
   "source": []
  },
  {
   "cell_type": "markdown",
   "id": "fa7b894d",
   "metadata": {},
   "source": [
    "## Variables used \n",
    "- data - contains all the data from file 'loan.csv'\n",
    "- empty_columns - The columns which are empty\n",
    "- empty_data - This is empty data which contains 54 columns and empty/null rows\n",
    "- data1 - contains data after dropping 54 empty columns"
   ]
  },
  {
   "cell_type": "code",
   "execution_count": null,
   "id": "33816dbb",
   "metadata": {},
   "outputs": [],
   "source": []
  },
  {
   "cell_type": "code",
   "execution_count": null,
   "id": "ee624523",
   "metadata": {},
   "outputs": [],
   "source": []
  },
  {
   "cell_type": "code",
   "execution_count": null,
   "id": "5ba503b4",
   "metadata": {},
   "outputs": [],
   "source": []
  },
  {
   "cell_type": "code",
   "execution_count": null,
   "id": "ddeae57b",
   "metadata": {},
   "outputs": [],
   "source": []
  },
  {
   "cell_type": "code",
   "execution_count": null,
   "id": "eda10b48",
   "metadata": {},
   "outputs": [],
   "source": []
  },
  {
   "cell_type": "code",
   "execution_count": null,
   "id": "ecc612f4",
   "metadata": {},
   "outputs": [],
   "source": []
  },
  {
   "cell_type": "code",
   "execution_count": null,
   "id": "f5597bd3",
   "metadata": {},
   "outputs": [],
   "source": []
  }
 ],
 "metadata": {
  "kernelspec": {
   "display_name": "Python 3 (ipykernel)",
   "language": "python",
   "name": "python3"
  },
  "language_info": {
   "codemirror_mode": {
    "name": "ipython",
    "version": 3
   },
   "file_extension": ".py",
   "mimetype": "text/x-python",
   "name": "python",
   "nbconvert_exporter": "python",
   "pygments_lexer": "ipython3",
   "version": "3.11.4"
  }
 },
 "nbformat": 4,
 "nbformat_minor": 5
}
